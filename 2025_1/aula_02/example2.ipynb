{
 "cells": [
  {
   "cell_type": "markdown",
   "id": "393284e4",
   "metadata": {},
   "source": [
    "# Building Optimization Models with Gurobipy: Transportation Problem Example\n",
    "\n",
    "## Introduction to the Transportation Problem\n",
    "\n",
    "The transportation problem is a classic optimization scenario where we need to determine how to distribute goods from multiple sources to multiple destinations while minimizing total transportation costs.\n",
    "\n",
    "## Problem Statement\n",
    "\n",
    "> A company has 3 warehouses and 4 retail stores.\n",
    "- Each warehouse has a certain supply capacity, and each store has a specific demand.\n",
    "- The cost of shipping one unit from each warehouse to each store varies.\n",
    "- The goal is to determine the optimal shipping plan that minimizes the total transportation cost while satisfying all demand requirements.\n",
    "\n",
    "### Parameters:\n",
    "- Supply at warehouses: Warehouse A (150 units), Warehouse B (200 units), Warehouse C (250 units)\n",
    "- Demand at stores: Store 1 (100 units), Store 2 (150 units), Store 3 (200 units), Store 4 (150 units)\n",
    "- Shipping costs per unit:\n",
    "\n",
    "| From/To | Store 1 | Store 2 | Store 3 | Store 4 |\n",
    "|---------|---------|---------|---------|---------|\n",
    "| Warehouse A | $10 | $12 | $8 | $11 |\n",
    "| Warehouse B | $13 | $7 | $14 | $8 |\n",
    "| Warehouse C | $9 | $14 | $10 | $12 |\n",
    "\n",
    "### Mathematical Formulation\n",
    "\n",
    "**Decision Variables:**\n",
    "- xᵢⱼ = number of units shipped from warehouse i to store j\n",
    "\n",
    "**Objective:**\n",
    "- Minimize total cost: ∑ᵢ∑ⱼ cᵢⱼxᵢⱼ (where cᵢⱼ is the cost of shipping from i to j)\n",
    "\n",
    "**Constraints:**\n",
    "- Supply constraints: For each warehouse i, ∑ⱼxᵢⱼ ≤ supply at warehouse i\n",
    "- Demand constraints: For each store j, ∑ᵢxᵢⱼ = demand at store j\n",
    "- Non-negativity: xᵢⱼ ≥ 0 for all i, j\n",
    "\n",
    "## Step-by-Step Implementation in Gurobipy\n",
    "\n",
    "### Step 1: Import the Library and Create a Model"
   ]
  },
  {
   "cell_type": "code",
   "execution_count": 1,
   "id": "e9c0107b",
   "metadata": {},
   "outputs": [
    {
     "name": "stdout",
     "output_type": "stream",
     "text": [
      "Set parameter Username\n",
      "Set parameter LicenseID to value 2638131\n",
      "Academic license - for non-commercial use only - expires 2026-03-18\n"
     ]
    }
   ],
   "source": [
    "import gurobipy as gp\n",
    "from gurobipy import GRB\n",
    "\n",
    "# Create a model\n",
    "model = gp.Model(\"TransportationProblem\")"
   ]
  },
  {
   "cell_type": "markdown",
   "id": "c6c20aa1",
   "metadata": {},
   "source": [
    "### Step 2: Define Sets and Parameters"
   ]
  },
  {
   "cell_type": "code",
   "execution_count": 3,
   "id": "8b96e0eb",
   "metadata": {},
   "outputs": [],
   "source": [
    "# Define sets\n",
    "warehouses = [\"A\", \"B\", \"C\"]\n",
    "stores = [1, 2, 3, 4]\n",
    "\n",
    "# Define parameters\n",
    "supply = {\"A\": 150, \"B\": 200, \"C\": 250}\n",
    "demand = {1: 100, 2: 150, 3: 200, 4: 150}\n",
    "\n",
    "# Shipping costs\n",
    "costs = {\n",
    "    (\"A\", 1): 10, (\"A\", 2): 12, (\"A\", 3): 8, (\"A\", 4): 11,\n",
    "    (\"B\", 1): 13, (\"B\", 2): 7, (\"B\", 3): 14, (\"B\", 4): 8,\n",
    "    (\"C\", 1): 9, (\"C\", 2): 14, (\"C\", 3): 10, (\"C\", 4): 12\n",
    "}"
   ]
  },
  {
   "cell_type": "markdown",
   "id": "645ecdf6",
   "metadata": {},
   "source": [
    "### Step 3: Define Decision Variables"
   ]
  },
  {
   "cell_type": "code",
   "execution_count": 4,
   "id": "4b0727c7",
   "metadata": {},
   "outputs": [],
   "source": [
    "# Create decision variables\n",
    "shipments = {}\n",
    "for i in warehouses:\n",
    "    for j in stores:\n",
    "        shipments[(i, j)] = model.addVar(vtype=GRB.CONTINUOUS, name=f\"Ship_{i}_{j}\")"
   ]
  },
  {
   "cell_type": "code",
   "execution_count": 8,
   "id": "3bf93783",
   "metadata": {},
   "outputs": [
    {
     "data": {
      "text/plain": [
       "{('A', 1, 1): <gurobi.Var envios[A,1,1]>,\n",
       " ('A', 1, 5): <gurobi.Var envios[A,1,5]>,\n",
       " ('A', 2, 1): <gurobi.Var envios[A,2,1]>,\n",
       " ('A', 2, 5): <gurobi.Var envios[A,2,5]>,\n",
       " ('A', 3, 1): <gurobi.Var envios[A,3,1]>,\n",
       " ('A', 3, 5): <gurobi.Var envios[A,3,5]>,\n",
       " ('A', 4, 1): <gurobi.Var envios[A,4,1]>,\n",
       " ('A', 4, 5): <gurobi.Var envios[A,4,5]>,\n",
       " ('B', 1, 1): <gurobi.Var envios[B,1,1]>,\n",
       " ('B', 1, 5): <gurobi.Var envios[B,1,5]>,\n",
       " ('B', 2, 1): <gurobi.Var envios[B,2,1]>,\n",
       " ('B', 2, 5): <gurobi.Var envios[B,2,5]>,\n",
       " ('B', 3, 1): <gurobi.Var envios[B,3,1]>,\n",
       " ('B', 3, 5): <gurobi.Var envios[B,3,5]>,\n",
       " ('B', 4, 1): <gurobi.Var envios[B,4,1]>,\n",
       " ('B', 4, 5): <gurobi.Var envios[B,4,5]>,\n",
       " ('C', 1, 1): <gurobi.Var envios[C,1,1]>,\n",
       " ('C', 1, 5): <gurobi.Var envios[C,1,5]>,\n",
       " ('C', 2, 1): <gurobi.Var envios[C,2,1]>,\n",
       " ('C', 2, 5): <gurobi.Var envios[C,2,5]>,\n",
       " ('C', 3, 1): <gurobi.Var envios[C,3,1]>,\n",
       " ('C', 3, 5): <gurobi.Var envios[C,3,5]>,\n",
       " ('C', 4, 1): <gurobi.Var envios[C,4,1]>,\n",
       " ('C', 4, 5): <gurobi.Var envios[C,4,5]>}"
      ]
     },
     "execution_count": 8,
     "metadata": {},
     "output_type": "execute_result"
    }
   ],
   "source": [
    "envios = model.addVars(warehouses, stores, [1,5], vtype=GRB.CONTINUOUS, name=\"envios\")\n",
    "model.update()\n",
    "envios"
   ]
  },
  {
   "cell_type": "code",
   "execution_count": 6,
   "id": "9c0b6638",
   "metadata": {},
   "outputs": [
    {
     "data": {
      "text/plain": [
       "{('A', 1): <gurobi.Var Ship_A_1>,\n",
       " ('A', 2): <gurobi.Var Ship_A_2>,\n",
       " ('A', 3): <gurobi.Var Ship_A_3>,\n",
       " ('A', 4): <gurobi.Var Ship_A_4>,\n",
       " ('B', 1): <gurobi.Var Ship_B_1>,\n",
       " ('B', 2): <gurobi.Var Ship_B_2>,\n",
       " ('B', 3): <gurobi.Var Ship_B_3>,\n",
       " ('B', 4): <gurobi.Var Ship_B_4>,\n",
       " ('C', 1): <gurobi.Var Ship_C_1>,\n",
       " ('C', 2): <gurobi.Var Ship_C_2>,\n",
       " ('C', 3): <gurobi.Var Ship_C_3>,\n",
       " ('C', 4): <gurobi.Var Ship_C_4>}"
      ]
     },
     "execution_count": 6,
     "metadata": {},
     "output_type": "execute_result"
    }
   ],
   "source": [
    "model.update()\n",
    "shipments"
   ]
  },
  {
   "cell_type": "markdown",
   "id": "83a455d2",
   "metadata": {},
   "source": [
    "### Step 4: Set the Objective Function"
   ]
  },
  {
   "cell_type": "code",
   "execution_count": 9,
   "id": "bc6aa214",
   "metadata": {},
   "outputs": [],
   "source": [
    "# Set objective function - minimize total transportation cost\n",
    "obj = gp.quicksum(costs[(i, j)] * shipments[(i, j)] for i in warehouses for j in stores)\n",
    "model.setObjective(obj, GRB.MINIMIZE)"
   ]
  },
  {
   "cell_type": "code",
   "execution_count": 10,
   "id": "d58944b5",
   "metadata": {},
   "outputs": [
    {
     "data": {
      "text/plain": [
       "<gurobi.LinExpr: 10.0 Ship_A_1 + 12.0 Ship_A_2 + 8.0 Ship_A_3 + 11.0 Ship_A_4 + 13.0 Ship_B_1 + 7.0 Ship_B_2 + 14.0 Ship_B_3 + 8.0 Ship_B_4 + 9.0 Ship_C_1 + 14.0 Ship_C_2 + 10.0 Ship_C_3 + 12.0 Ship_C_4>"
      ]
     },
     "execution_count": 10,
     "metadata": {},
     "output_type": "execute_result"
    }
   ],
   "source": [
    "obj"
   ]
  },
  {
   "cell_type": "markdown",
   "id": "34f0293f",
   "metadata": {},
   "source": [
    "### Step 5: Add Constraints"
   ]
  },
  {
   "cell_type": "code",
   "execution_count": 11,
   "id": "d3e3d06b",
   "metadata": {},
   "outputs": [],
   "source": [
    "# Add supply constraints\n",
    "for i in warehouses:\n",
    "    model.addConstr(\n",
    "        gp.quicksum(shipments[(i, j)] for j in stores) <= supply[i],\n",
    "        name=f\"Supply_{i}\"\n",
    "    )\n",
    "\n",
    "# Add demand constraints\n",
    "for j in stores:\n",
    "    model.addConstr(\n",
    "        gp.quicksum(shipments[(i, j)] for i in warehouses) == demand[j],\n",
    "        name=f\"Demand_{j}\"\n",
    "    )"
   ]
  },
  {
   "cell_type": "markdown",
   "id": "bd93ed42",
   "metadata": {},
   "source": [
    "### Step 6: Solve the Model"
   ]
  },
  {
   "cell_type": "code",
   "execution_count": 12,
   "id": "56b68ce6",
   "metadata": {},
   "outputs": [
    {
     "name": "stdout",
     "output_type": "stream",
     "text": [
      "Gurobi Optimizer version 12.0.1 build v12.0.1rc0 (linux64 - \"Arch Linux\")\n",
      "\n",
      "CPU model: Intel(R) Core(TM) Ultra 9 185H, instruction set [SSE2|AVX|AVX2]\n",
      "Thread count: 11 physical cores, 22 logical processors, using up to 22 threads\n",
      "\n",
      "Optimize a model with 7 rows, 48 columns and 24 nonzeros\n",
      "Model fingerprint: 0xc7c646ad\n",
      "Coefficient statistics:\n",
      "  Matrix range     [1e+00, 1e+00]\n",
      "  Objective range  [7e+00, 1e+01]\n",
      "  Bounds range     [0e+00, 0e+00]\n",
      "  RHS range        [1e+02, 2e+02]\n",
      "Presolve removed 0 rows and 36 columns\n",
      "Presolve time: 0.02s\n",
      "Presolved: 7 rows, 12 columns, 24 nonzeros\n",
      "\n",
      "Iteration    Objective       Primal Inf.    Dual Inf.      Time\n",
      "       0    4.7500000e+03   2.498112e+01   0.000000e+00      0s\n",
      "       4    5.2500000e+03   0.000000e+00   0.000000e+00      0s\n",
      "\n",
      "Solved in 4 iterations and 0.03 seconds (0.00 work units)\n",
      "Optimal objective  5.250000000e+03\n"
     ]
    }
   ],
   "source": [
    "# Solve the model\n",
    "model.optimize()"
   ]
  },
  {
   "cell_type": "markdown",
   "id": "47e35b4e",
   "metadata": {},
   "source": [
    "### Step 7: Access the Results"
   ]
  },
  {
   "cell_type": "code",
   "execution_count": 13,
   "id": "294cfe6c",
   "metadata": {},
   "outputs": [
    {
     "name": "stdout",
     "output_type": "stream",
     "text": [
      "Optimal total transportation cost: $5250.00\n",
      "\n",
      "Optimal Shipping Plan:\n",
      "--------------------------------------------------\n",
      "From      To        Units     Cost/Unit Total Cost\n",
      "--------------------------------------------------\n",
      "A         3         150.0     $8.00     $1200.00  \n",
      "B         2         150.0     $7.00     $1050.00  \n",
      "B         4         50.0      $8.00     $400.00   \n",
      "C         1         100.0     $9.00     $900.00   \n",
      "C         3         50.0      $10.00    $500.00   \n",
      "C         4         100.0     $12.00    $1200.00  \n",
      "--------------------------------------------------\n",
      "Total units shipped: 600.0\n",
      "\n",
      "Warehouse Utilization:\n",
      "Warehouse A: 150.0/150 units (100.0%)\n",
      "Warehouse B: 200.0/200 units (100.0%)\n",
      "Warehouse C: 250.0/250 units (100.0%)\n",
      "\n",
      "Marginal Value of Additional Demand:\n",
      "Store 1: $9.00 per additional unit\n",
      "Store 2: $11.00 per additional unit\n",
      "Store 3: $10.00 per additional unit\n",
      "Store 4: $12.00 per additional unit\n"
     ]
    }
   ],
   "source": [
    "# Check if optimal solution was found\n",
    "if model.status == GRB.OPTIMAL:\n",
    "    print(f\"Optimal total transportation cost: ${model.objVal:.2f}\")\n",
    "    \n",
    "    # Print optimal shipping plan\n",
    "    print(\"\\nOptimal Shipping Plan:\")\n",
    "    print(\"-\" * 50)\n",
    "    print(f\"{'From':<10}{'To':<10}{'Units':<10}{'Cost/Unit':<10}{'Total Cost':<10}\")\n",
    "    print(\"-\" * 50)\n",
    "    \n",
    "    total_units = 0\n",
    "    for i in warehouses:\n",
    "        for j in stores:\n",
    "            if shipments[(i, j)].x > 0.001:  # Small tolerance to handle floating-point errors\n",
    "                units = shipments[(i, j)].x\n",
    "                unit_cost = costs[(i, j)]\n",
    "                total_cost = units * unit_cost\n",
    "                total_units += units\n",
    "                print(f\"{i:<10}{j:<10}{units:<10.1f}${unit_cost:<9.2f}${total_cost:<9.2f}\")\n",
    "    \n",
    "    print(\"-\" * 50)\n",
    "    print(f\"Total units shipped: {total_units}\")\n",
    "    \n",
    "    # Print warehouse utilization\n",
    "    print(\"\\nWarehouse Utilization:\")\n",
    "    for i in warehouses:\n",
    "        used = sum(shipments[(i, j)].x for j in stores)\n",
    "        utilization = (used / supply[i]) * 100\n",
    "        print(f\"Warehouse {i}: {used:.1f}/{supply[i]} units ({utilization:.1f}%)\")\n",
    "        \n",
    "    # Print shadow prices for demand constraints\n",
    "    print(\"\\nMarginal Value of Additional Demand:\")\n",
    "    for j in stores:\n",
    "        constr_name = f\"Demand_{j}\"\n",
    "        constr = model.getConstrByName(constr_name)\n",
    "        print(f\"Store {j}: ${constr.Pi:.2f} per additional unit\")\n",
    "        \n",
    "else:\n",
    "    print(f\"Optimization was not successful. Status code: {model.status}\")"
   ]
  },
  {
   "cell_type": "markdown",
   "id": "95256f98",
   "metadata": {},
   "source": [
    "### Step 8: Sensitivity Analysis"
   ]
  },
  {
   "cell_type": "code",
   "execution_count": null,
   "id": "e362c0d6",
   "metadata": {},
   "outputs": [],
   "source": [
    "# Sensitivity analysis for supply capacity\n",
    "print(\"\\nImpact of Changing Supply Capacity:\")\n",
    "for i in warehouses:\n",
    "    constr_name = f\"Supply_{i}\"\n",
    "    constr = model.getConstrByName(constr_name)\n",
    "    slack = constr.slack\n",
    "    shadow_price = abs(constr.Pi) if constr.Pi != 0 else 0\n",
    "    \n",
    "    if slack > 0.001:\n",
    "        print(f\"Warehouse {i}: Unused capacity of {slack:.1f} units (shadow price = $0.00)\")\n",
    "    else:\n",
    "        print(f\"Warehouse {i}: At capacity (shadow price = ${shadow_price:.2f})\")"
   ]
  },
  {
   "cell_type": "markdown",
   "id": "7e81839c",
   "metadata": {},
   "source": [
    "## Extensions to the Basic Model\n",
    "\n",
    "### Adding Fixed Costs for Using a Warehouse"
   ]
  },
  {
   "cell_type": "code",
   "execution_count": null,
   "id": "679366e0",
   "metadata": {},
   "outputs": [],
   "source": [
    "# Fixed costs for using each warehouse\n",
    "fixed_costs = {\"A\": 500, \"B\": 700, \"C\": 600}\n",
    "\n",
    "# Binary variables for whether a warehouse is used\n",
    "use_warehouse = {}\n",
    "for i in warehouses:\n",
    "    use_warehouse[i] = model.addVar(vtype=GRB.BINARY, name=f\"Use_{i}\")\n",
    "\n",
    "# Connect binary variables to shipment variables using big-M constraints\n",
    "M = sum(demand.values())  # Big enough number\n",
    "for i in warehouses:\n",
    "    model.addConstr(\n",
    "        gp.quicksum(shipments[(i, j)] for j in stores) <= M * use_warehouse[i],\n",
    "        name=f\"Link_{i}\"\n",
    "    )\n",
    "\n",
    "# Update objective to include fixed costs\n",
    "obj = (gp.quicksum(costs[(i, j)] * shipments[(i, j)] for i in warehouses for j in stores) +\n",
    "       gp.quicksum(fixed_costs[i] * use_warehouse[i] for i in warehouses))\n",
    "model.setObjective(obj, GRB.MINIMIZE)"
   ]
  },
  {
   "cell_type": "markdown",
   "id": "7662bc23",
   "metadata": {},
   "source": [
    "### Adding Capacity Constraints for Stores"
   ]
  },
  {
   "cell_type": "code",
   "execution_count": null,
   "id": "33f66491",
   "metadata": {},
   "outputs": [],
   "source": [
    "# Maximum units a store can receive in a single shipment\n",
    "max_shipment = {1: 80, 2: 100, 3: 120, 4: 90}\n",
    "\n",
    "# Add constraints\n",
    "for i in warehouses:\n",
    "    for j in stores:\n",
    "        model.addConstr(\n",
    "            shipments[(i, j)] <= max_shipment[j],\n",
    "            name=f\"MaxShipment_{i}_{j}\"\n",
    "        )"
   ]
  },
  {
   "cell_type": "markdown",
   "id": "2db6055f",
   "metadata": {},
   "source": [
    "## Common Tips and Best Practices\n",
    "\n",
    "1. **Data Organization**: Organize your data in dictionaries or pandas DataFrames for complex problems\n",
    "2. **Variable Naming**: Use meaningful names for variables and constraints\n",
    "3. **Error Handling**: Always check the model status after optimization\n",
    "4. **Numerical Stability**: Be cautious with very large or small coefficients\n",
    "5. **Debug with Print Statements**: Print intermediate model components when debugging\n",
    "6. **Model Validation**: Verify that your constraints work as expected with simple test cases\n",
    "\n",
    "## Practice Exercises\n",
    "\n",
    "1. Modify the transportation problem to include minimum shipment requirements between certain warehouses and stores.\n",
    "2. Add a constraint that requires each store to receive shipments from at least two different warehouses.\n",
    "3. Implement a multi-period version of the transportation problem where inventory can be carried between periods.\n",
    "4. Add a constraint that the total transportation distance (not just cost) must be below a certain threshold."
   ]
  }
 ],
 "metadata": {
  "kernelspec": {
   "display_name": ".venv",
   "language": "python",
   "name": "python3"
  },
  "language_info": {
   "codemirror_mode": {
    "name": "ipython",
    "version": 3
   },
   "file_extension": ".py",
   "mimetype": "text/x-python",
   "name": "python",
   "nbconvert_exporter": "python",
   "pygments_lexer": "ipython3",
   "version": "3.13.2"
  }
 },
 "nbformat": 4,
 "nbformat_minor": 5
}
