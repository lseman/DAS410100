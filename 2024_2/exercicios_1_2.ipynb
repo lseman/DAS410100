{
 "cells": [
  {
   "cell_type": "markdown",
   "metadata": {},
   "source": [
    "### Example 1: Diet Problem\n",
    "\n",
    "**Problem Statement:**\n",
    "A nutritionist wants to design a diet that meets the daily nutritional requirements at the lowest possible cost. The diet consists of different food items, each with a specific cost and nutritional content (e.g., calories, protein, fat). The goal is to minimize the cost while ensuring that the diet meets minimum daily nutritional requirements.\n",
    "\n",
    "**Mathematical Model:**\n",
    "\n",
    "Let:\n",
    "- $x_i $ be the quantity of food item $i $ in the diet.\n",
    "- $c_i $ be the cost per unit of food item $i $.\n",
    "- $a_{ij} $ be the amount of nutrient $j $ in one unit of food item $i $.\n",
    "- $b_j $ be the minimum requirement of nutrient $j $.\n",
    "\n",
    "**Objective:**\n",
    "Minimize the total cost:\n",
    "\n",
    "$\n",
    "\\text{Minimize } \\sum_i c_i x_i\n",
    "$\n",
    "\n",
    "**Constraints:**\n",
    "For each nutrient $j $:\n",
    "\n",
    "$\n",
    "\\sum_i a_{ij} x_i \\geq b_j\n",
    "$\n",
    "$x_i \\geq 0 $ for all $i $.\n"
   ]
  },
  {
   "cell_type": "code",
   "execution_count": 1,
   "metadata": {},
   "outputs": [
    {
     "name": "stdout",
     "output_type": "stream",
     "text": [
      "Set parameter Username\n",
      "Academic license - for non-commercial use only - expires 2025-01-17\n",
      "Gurobi Optimizer version 11.0.3 build v11.0.3rc0 (linux64 - \"Gentoo Linux\")\n",
      "\n",
      "CPU model: Intel(R) Core(TM) i9-14900K, instruction set [SSE2|AVX|AVX2]\n",
      "Thread count: 32 physical cores, 32 logical processors, using up to 32 threads\n",
      "\n",
      "Optimize a model with 12 rows, 3 columns and 18 nonzeros\n",
      "Model fingerprint: 0x254323d8\n",
      "Coefficient statistics:\n",
      "  Matrix range     [1e+00, 2e+02]\n",
      "  Objective range  [2e-01, 1e+00]\n",
      "  Bounds range     [0e+00, 0e+00]\n",
      "  RHS range        [2e+01, 3e+03]\n",
      "Presolve removed 9 rows and 0 columns\n",
      "Presolve time: 0.00s\n",
      "Presolved: 3 rows, 3 columns, 9 nonzeros\n",
      "\n",
      "Iteration    Objective       Primal Inf.    Dual Inf.      Time\n",
      "       0    0.0000000e+00   2.137500e+02   0.000000e+00      0s\n",
      "       1    1.2000000e+01   0.000000e+00   0.000000e+00      0s\n",
      "\n",
      "Solved in 1 iterations and 0.00 seconds (0.00 work units)\n",
      "Optimal objective  1.200000000e+01\n",
      "x[Bread]: 16.0\n",
      "x[Milk]: 0.0\n",
      "x[Eggs]: 20.0\n",
      "Optimal cost: 12.0\n"
     ]
    }
   ],
   "source": [
    "import gurobipy as gp\n",
    "from gurobipy import GRB\n",
    "\n",
    "# Parameters\n",
    "foods = [\"Bread\", \"Milk\", \"Eggs\"]\n",
    "costs = {\"Bread\": 0.5, \"Milk\": 1.0, \"Eggs\": 0.2}\n",
    "nutrition = {\n",
    "    \"Calories\": {\"Bread\": 100, \"Milk\": 150, \"Eggs\": 70},\n",
    "    \"Protein\": {\"Bread\": 4, \"Milk\": 8, \"Eggs\": 6},\n",
    "    \"Fat\": {\"Bread\": 1, \"Milk\": 5, \"Eggs\": 5}\n",
    "}\n",
    "requirements = {\"Calories\": 3000, \"Protein\": 50, \"Fat\": 70}\n",
    "\n",
    "# Model\n",
    "model = gp.Model(\"Diet Problem\")\n",
    "\n",
    "# Decision variables\n",
    "food_vars = model.addVars(foods, name=\"x\", vtype=GRB.CONTINUOUS, lb=0)\n",
    "\n",
    "# Objective function\n",
    "model.setObjective(gp.quicksum(costs[i] * food_vars[i] for i in foods), GRB.MINIMIZE)\n",
    "\n",
    "# Constraints\n",
    "for nutrient, req in requirements.items():\n",
    "    model.addConstr(\n",
    "        gp.quicksum(nutrition[nutrient][i] * food_vars[i] for i in foods) >= req,\n",
    "        name=nutrient\n",
    "    )\n",
    "\n",
    "    # add maximum constraint for each food\n",
    "    for food in foods:\n",
    "        model.addConstr(food_vars[food] <= 20)\n",
    "\n",
    "# Optimize\n",
    "model.optimize()\n",
    "\n",
    "# Display solution\n",
    "for v in model.getVars():\n",
    "    print(f\"{v.varName}: {v.x}\")\n",
    "\n",
    "print(f\"Optimal cost: {model.objVal}\")\n"
   ]
  },
  {
   "cell_type": "code",
   "execution_count": 2,
   "metadata": {},
   "outputs": [
    {
     "data": {
      "image/png": "[encoded data removed]",
      "text/plain": [
       "<Figure size 640x480 with 1 Axes>"
      ]
     },
     "metadata": {},
     "output_type": "display_data"
    }
   ],
   "source": [
    "import matplotlib.pyplot as plt\n",
    "\n",
    "quantities = [v.x for v in model.getVars()]\n",
    "plt.bar(foods, quantities)\n",
    "plt.xlabel('Food Item')\n",
    "plt.ylabel('Quantity')\n",
    "plt.title('Optimal Diet Composition')\n",
    "plt.show()\n"
   ]
  },
  {
   "cell_type": "markdown",
   "metadata": {},
   "source": [
    "\n",
    "### Example 2: Transportation Problem\n",
    "\n",
    "**Problem Statement:**\n",
    "A company needs to transport goods from multiple warehouses to several stores. Each warehouse has a limited supply, and each store has a demand. The goal is to minimize the transportation cost.\n",
    "\n",
    "**Mathematical Model:**\n",
    "\n",
    "Let:\n",
    "- $x_{ij} $ be the number of units transported from warehouse $i $ to store $j $.\n",
    "- $c_{ij} $ be the cost per unit of transporting from warehouse $i $ to store $j $.\n",
    "- $s_i $ be the supply at warehouse $i $.\n",
    "- $d_j $ be the demand at store $j $.\n",
    "\n",
    "**Objective:**\n",
    "Minimize the total transportation cost:\n",
    "$\n",
    "\\text{Minimize } \\sum_{i,j} c_{ij} x_{ij}\n",
    "$\n",
    "\n",
    "**Constraints:**\n",
    "Supply constraints for each warehouse $i $:\n",
    "$\n",
    "\\sum_j x_{ij} \\leq s_i\n",
    "$\n",
    "Demand constraints for each store $j $:\n",
    "$\n",
    "\\sum_i x_{ij} \\geq d_j\n",
    "$\n",
    "$x_{ij} \\geq 0 $ for all $i, j $.\n",
    "\n"
   ]
  },
  {
   "cell_type": "code",
   "execution_count": 3,
   "metadata": {},
   "outputs": [
    {
     "name": "stdout",
     "output_type": "stream",
     "text": [
      "Gurobi Optimizer version 11.0.3 build v11.0.3rc0 (linux64 - \"Gentoo Linux\")\n",
      "\n",
      "CPU model: Intel(R) Core(TM) i9-14900K, instruction set [SSE2|AVX|AVX2]\n",
      "Thread count: 32 physical cores, 32 logical processors, using up to 32 threads\n",
      "\n",
      "Optimize a model with 5 rows, 6 columns and 12 nonzeros\n",
      "Model fingerprint: 0x73745d63\n",
      "Coefficient statistics:\n",
      "  Matrix range     [1e+00, 1e+00]\n",
      "  Objective range  [1e+00, 7e+00]\n",
      "  Bounds range     [0e+00, 0e+00]\n",
      "  RHS range        [7e+01, 2e+02]\n",
      "Presolve time: 0.00s\n",
      "Presolved: 5 rows, 6 columns, 12 nonzeros\n",
      "\n",
      "Iteration    Objective       Primal Inf.    Dual Inf.      Time\n",
      "       0    0.0000000e+00   2.500000e+02   0.000000e+00      0s\n",
      "       5    7.8000000e+02   0.000000e+00   0.000000e+00      0s\n",
      "\n",
      "Solved in 5 iterations and 0.00 seconds (0.00 work units)\n",
      "Optimal objective  7.800000000e+02\n",
      "x[W1,S1]: 30.0\n",
      "x[W1,S2]: 0.0\n",
      "x[W1,S3]: 70.0\n",
      "x[W2,S1]: 50.0\n",
      "x[W2,S2]: 100.0\n",
      "x[W2,S3]: 0.0\n",
      "Optimal cost: 780.0\n"
     ]
    }
   ],
   "source": [
    "# Parameters\n",
    "warehouses = [\"W1\", \"W2\"]\n",
    "stores = [\"S1\", \"S2\", \"S3\"]\n",
    "costs = {\n",
    "    (\"W1\", \"S1\"): 2, (\"W1\", \"S2\"): 3, (\"W1\", \"S3\"): 1,\n",
    "    (\"W2\", \"S1\"): 5, (\"W2\", \"S2\"): 4, (\"W2\", \"S3\"): 7\n",
    "}\n",
    "supply = {\"W1\": 100, \"W2\": 150}\n",
    "demand = {\"S1\": 80, \"S2\": 100, \"S3\": 70}\n",
    "\n",
    "# Model\n",
    "model = gp.Model(\"Transportation Problem\")\n",
    "\n",
    "# Decision variables\n",
    "transport_vars = model.addVars(warehouses, stores, name=\"x\", vtype=GRB.CONTINUOUS, lb=0)\n",
    "\n",
    "# Objective function\n",
    "model.setObjective(gp.quicksum(costs[i, j] * transport_vars[i, j] for i in warehouses for j in stores), GRB.MINIMIZE)\n",
    "\n",
    "# Constraints\n",
    "for i in warehouses:\n",
    "    model.addConstr(gp.quicksum(transport_vars[i, j] for j in stores) <= supply[i], name=f\"Supply_{i}\")\n",
    "for j in stores:\n",
    "    model.addConstr(gp.quicksum(transport_vars[i, j] for i in warehouses) >= demand[j], name=f\"Demand_{j}\")\n",
    "\n",
    "# Optimize\n",
    "model.optimize()\n",
    "\n",
    "# Display solution\n",
    "for v in model.getVars():\n",
    "    print(f\"{v.varName}: {v.x}\")\n",
    "\n",
    "print(f\"Optimal cost: {model.objVal}\")\n"
   ]
  },
  {
   "cell_type": "code",
   "execution_count": 4,
   "metadata": {},
   "outputs": [
    {
     "data": {
      "image/png": "[encoded data removed]",
      "text/plain": [
       "<Figure size 640x480 with 2 Axes>"
      ]
     },
     "metadata": {},
     "output_type": "display_data"
    }
   ],
   "source": [
    "import seaborn as sns\n",
    "import numpy as np\n",
    "\n",
    "transport_matrix = np.array([[transport_vars[i, j].x for j in stores] for i in warehouses])\n",
    "sns.heatmap(transport_matrix, annot=True, cmap=\"YlGnBu\", xticklabels=stores, yticklabels=warehouses)\n",
    "plt.xlabel('Stores')\n",
    "plt.ylabel('Warehouses')\n",
    "plt.title('Transportation Plan')\n",
    "plt.show()\n"
   ]
  }
 ],
 "metadata": {
  "kernelspec": {
   "display_name": ".venv",
   "language": "python",
   "name": "python3"
  },
  "language_info": {
   "codemirror_mode": {
    "name": "ipython",
    "version": 3
   },
   "file_extension": ".py",
   "mimetype": "text/x-python",
   "name": "python",
   "nbconvert_exporter": "python",
   "pygments_lexer": "ipython3",
   "version": "3.12.5"
  }
 },
 "nbformat": 4,
 "nbformat_minor": 2
}
