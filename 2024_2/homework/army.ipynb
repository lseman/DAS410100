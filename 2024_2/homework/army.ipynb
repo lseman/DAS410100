{
 "cells": [
  {
   "cell_type": "markdown",
   "metadata": {},
   "source": [
    "# Problem\n",
    "\n",
    "1. A set of pieces (King, Rook, Queen, Knight, and Bishop) are placed on an 8x8 chessboard.\n",
    "2. Each square on the board is either empty or occupied by exactly one chess piece.\n",
    "3. If a square is occupied by a piece, no other piece can \"attack\" it, i.e., no piece can threaten any other based on their movement rules.\n",
    "4. The objective is to maximize the sum of assigned values for the pieces placed on the board, where each type of piece has a different value.\n",
    "\n",
    "### Problem Definition\n",
    "\n",
    "#### Sets:\n",
    "- Let $N = \\{1, 2, \\dots, 64\\}$ represent the set of squares on the 8x8 chessboard.\n",
    "- Let $P = \\{\\text{K}, \\text{R}, \\text{Q}, \\text{N}, \\text{B}\\}$ represent the set of chess pieces: King ($\\text{K}$), Rook ($\\text{R}$), Queen ($\\text{Q}$), Knight ($\\text{N}$), and Bishop ($\\text{B}$).\n",
    "\n",
    "#### Parameters:\n",
    "- $v_p$ is the value associated with placing piece $p \\in P$ on the board. For instance, $v_{\\text{K}} = 14$, $v_{\\text{R}} = 28$, etc.\n",
    "- Define $N_{\\text{attack}}^p(n)$ as the set of squares that piece $p$ can attack from square $n$. These sets differ for each piece based on their movement rules."
   ]
  },
  {
   "cell_type": "code",
   "execution_count": 1,
   "metadata": {},
   "outputs": [],
   "source": [
    "pieces = ['K', 'R', 'Q', 'N', 'B']\n",
    "val = {'K': 14, 'R': 28, 'Q': 28, 'N': 7, 'B': 16}\n",
    "symb = {'K': \"\\u265A\", 'R': \"\\u265C\", 'Q': \"\\u265B\", 'N': \"\\u265E\", 'B': \"\\u265D\"}"
   ]
  }
 ],
 "metadata": {
  "kernelspec": {
   "display_name": ".venv",
   "language": "python",
   "name": "python3"
  },
  "language_info": {
   "codemirror_mode": {
    "name": "ipython",
    "version": 3
   },
   "file_extension": ".py",
   "mimetype": "text/x-python",
   "name": "python",
   "nbconvert_exporter": "python",
   "pygments_lexer": "ipython3",
   "version": "3.12.5"
  }
 },
 "nbformat": 4,
 "nbformat_minor": 2
}
