{
 "cells": [
  {
   "cell_type": "markdown",
   "id": "4f3601bb",
   "metadata": {},
   "source": [
    "# Building Optimization Models with Gurobipy: A Step-by-Step Guide\n",
    "\n",
    "## Introduction to Gurobipy\n",
    "\n",
    "Gurobipy is a Python interface for the Gurobi Optimizer, a powerful commercial solver for various types of optimization problems. This guide walks you through the process of formulating and solving an optimization problem using Gurobipy, based on the furniture production example from our lecture.\n",
    "\n",
    "## The Furniture Production Problem\n",
    "\n",
    "Let's recall our problem:\n",
    "\n",
    "> A furniture company makes tables and chairs.\n",
    "\n",
    "- Each table requires 4 hours of carpentry and 2 hours of finishing.\n",
    "- Each chair requires 3 hours of carpentry and 1 hour of finishing.\n",
    "- The company has 240 hours of carpentry time and 100 hours of finishing time available each week.\n",
    "- If each table contributes $70 to profit and each chair contributes $50, how many of each should be made to maximize profit?\n",
    "\n",
    "### Mathematical Formulation\n",
    "\n",
    "**Decision Variables:**\n",
    "- x₁ = number of tables to make\n",
    "- x₂ = number of chairs to make\n",
    "\n",
    "**Objective:** \n",
    "- Maximize profit: 70x₁ + 50x₂\n",
    "\n",
    "**Constraints:**\n",
    "- Carpentry time: 4x₁ + 3x₂ ≤ 240\n",
    "- Finishing time: 2x₁ + x₂ ≤ 100\n",
    "- Non-negativity: x₁, x₂ ≥ 0\n",
    "\n",
    "## Step-by-Step Implementation in Gurobipy\n",
    "\n",
    "### Step 1: Import the Library and Create a Model"
   ]
  },
  {
   "cell_type": "code",
   "execution_count": 2,
   "id": "dca2210f",
   "metadata": {},
   "outputs": [
    {
     "name": "stdout",
     "output_type": "stream",
     "text": [
      "Set parameter Username\n",
      "Set parameter LicenseID to value 2638131\n",
      "Academic license - for non-commercial use only - expires 2026-03-18\n"
     ]
    }
   ],
   "source": [
    "import gurobipy as gp\n",
    "from gurobipy import GRB\n",
    "\n",
    "# Create a model\n",
    "model = gp.Model(\"FurnitureProduction\")"
   ]
  },
  {
   "cell_type": "markdown",
   "id": "feb1c924",
   "metadata": {},
   "source": [
    "The first step is to import the necessary modules and create a model object. The string parameter gives a name to your model.\n",
    "\n",
    "### Step 2: Define Decision Variables"
   ]
  },
  {
   "cell_type": "code",
   "execution_count": 3,
   "id": "44e22a96",
   "metadata": {},
   "outputs": [],
   "source": [
    "# Define decision variables\n",
    "tables = model.addVar(vtype=GRB.CONTINUOUS, name=\"Tables\")\n",
    "chairs = model.addVar(vtype=GRB.CONTINUOUS, name=\"Chairs\")"
   ]
  },
  {
   "cell_type": "code",
   "execution_count": 5,
   "id": "75af7cbc",
   "metadata": {},
   "outputs": [
    {
     "data": {
      "text/plain": [
       "<gurobi.Var Tables>"
      ]
     },
     "execution_count": 5,
     "metadata": {},
     "output_type": "execute_result"
    }
   ],
   "source": [
    "model.update()\n",
    "tables"
   ]
  },
  {
   "cell_type": "markdown",
   "id": "7705b984",
   "metadata": {},
   "source": [
    "Here we define our decision variables using the `addVar()` method:\n",
    "- `vtype`: Variable type (continuous, integer, binary)\n",
    "- `name`: A descriptive name for the variable\n",
    "- Other parameters (not shown) include `lb` (lower bound), `ub` (upper bound), and `obj` (objective coefficient)\n",
    "\n",
    "For this problem, we're using continuous variables because we can make fractional numbers of tables and chairs (though in practice, you might want to use integer variables).\n",
    "\n",
    "### Step 3: Set the Objective Function"
   ]
  },
  {
   "cell_type": "code",
   "execution_count": 6,
   "id": "3d3a43a4",
   "metadata": {},
   "outputs": [],
   "source": [
    "# Set objective function\n",
    "model.setObjective(70 * tables + 50 * chairs, GRB.MAXIMIZE)"
   ]
  },
  {
   "cell_type": "markdown",
   "id": "4b5bfdd9",
   "metadata": {},
   "source": [
    "We define our objective function using the `setObjective()` method:\n",
    "- First argument: Linear expression representing the objective function\n",
    "- Second argument: Direction (GRB.MAXIMIZE or GRB.MINIMIZE)\n",
    "\n",
    "### Step 4: Add Constraints"
   ]
  },
  {
   "cell_type": "code",
   "execution_count": 7,
   "id": "a3e4f87c",
   "metadata": {},
   "outputs": [
    {
     "data": {
      "text/plain": [
       "<gurobi.Constr *Awaiting Model Update*>"
      ]
     },
     "execution_count": 7,
     "metadata": {},
     "output_type": "execute_result"
    }
   ],
   "source": [
    "# Add constraints\n",
    "model.addConstr(4 * tables + 3 * chairs <= 240, \"CarpentryTime\")\n",
    "model.addConstr(2 * tables + 1 * chairs <= 100, \"FinishingTime\")\n",
    "model.addConstr(tables >= 0, \"NonNegTables\")\n",
    "model.addConstr(chairs >= 0, \"NonNegChairs\")"
   ]
  },
  {
   "cell_type": "markdown",
   "id": "087aa5f4",
   "metadata": {},
   "source": [
    "Constraints are added using the `addConstr()` method:\n",
    "- First argument: Linear expression representing the constraint\n",
    "- Second argument: A descriptive name for the constraint\n",
    "\n",
    "Gurobipy supports the usual comparison operators (<=, >=, ==) in constraints.\n",
    "\n",
    "### Step 5: Solve the Model"
   ]
  },
  {
   "cell_type": "code",
   "execution_count": 8,
   "id": "40f23b47",
   "metadata": {},
   "outputs": [
    {
     "name": "stdout",
     "output_type": "stream",
     "text": [
      "Gurobi Optimizer version 12.0.1 build v12.0.1rc0 (linux64 - \"Arch Linux\")\n",
      "\n",
      "CPU model: Intel(R) Core(TM) Ultra 9 185H, instruction set [SSE2|AVX|AVX2]\n",
      "Thread count: 11 physical cores, 22 logical processors, using up to 22 threads\n",
      "\n",
      "Optimize a model with 4 rows, 2 columns and 6 nonzeros\n",
      "Model fingerprint: 0xd5a2ec53\n",
      "Coefficient statistics:\n",
      "  Matrix range     [1e+00, 4e+00]\n",
      "  Objective range  [5e+01, 7e+01]\n",
      "  Bounds range     [0e+00, 0e+00]\n",
      "  RHS range        [1e+02, 2e+02]\n",
      "Presolve removed 2 rows and 0 columns\n",
      "Presolve time: 0.03s\n",
      "Presolved: 2 rows, 2 columns, 4 nonzeros\n",
      "\n",
      "Iteration    Objective       Primal Inf.    Dual Inf.      Time\n",
      "       0    4.2000000e+03   9.974500e+00   0.000000e+00      0s\n",
      "       2    4.1000000e+03   0.000000e+00   0.000000e+00      0s\n",
      "\n",
      "Solved in 2 iterations and 0.05 seconds (0.00 work units)\n",
      "Optimal objective  4.100000000e+03\n"
     ]
    }
   ],
   "source": [
    "# Solve the model\n",
    "model.optimize()"
   ]
  },
  {
   "cell_type": "markdown",
   "id": "85813876",
   "metadata": {},
   "source": [
    "The `optimize()` method runs the solver on our model.\n",
    "\n",
    "### Step 6: Access the Results"
   ]
  },
  {
   "cell_type": "code",
   "execution_count": 9,
   "id": "584e676b",
   "metadata": {},
   "outputs": [
    {
     "data": {
      "text/plain": [
       "<gurobi.Var Tables (value 29.999999999999996)>"
      ]
     },
     "execution_count": 9,
     "metadata": {},
     "output_type": "execute_result"
    }
   ],
   "source": [
    "tables"
   ]
  },
  {
   "cell_type": "code",
   "execution_count": 6,
   "id": "f746f5cd",
   "metadata": {},
   "outputs": [
    {
     "name": "stdout",
     "output_type": "stream",
     "text": [
      "Optimal value: $4100.00\n",
      "Tables to produce: 30.00\n",
      "Chairs to produce: 40.00\n"
     ]
    }
   ],
   "source": [
    "# Print results\n",
    "print(f\"Optimal value: ${model.objVal:.2f}\")\n",
    "print(f\"Tables to produce: {tables.x:.2f}\")\n",
    "print(f\"Chairs to produce: {chairs.x:.2f}\")"
   ]
  },
  {
   "cell_type": "markdown",
   "id": "eb4aaa8d",
   "metadata": {},
   "source": [
    "After optimization:\n",
    "- `model.objVal` contains the optimal objective value\n",
    "- `variable.x` contains the optimal value for each variable\n",
    "- `model.Status` tells you whether the model was solved to optimality\n",
    "\n",
    "### Step 7: Perform Sensitivity Analysis"
   ]
  },
  {
   "cell_type": "code",
   "execution_count": 7,
   "id": "813c054d",
   "metadata": {},
   "outputs": [
    {
     "name": "stdout",
     "output_type": "stream",
     "text": [
      "CarpentryTime: Shadow price = 15.00\n",
      "FinishingTime: Shadow price = 5.00\n"
     ]
    }
   ],
   "source": [
    "# Sensitivity analysis\n",
    "for constr in model.getConstrs():\n",
    "    if constr.Sense == '<':  # Only for less-than constraints\n",
    "        print(f\"{constr.ConstrName}: Shadow price = {constr.Pi:.2f}\")"
   ]
  },
  {
   "cell_type": "markdown",
   "id": "dd5aeffe",
   "metadata": {},
   "source": [
    "The `Pi` attribute of a constraint gives its shadow price, which represents the marginal value of the associated resource.\n",
    "\n",
    "## Example Extensions\n",
    "\n",
    "### Adding New Constraints\n",
    "\n",
    "You can modify your model by adding new constraints:"
   ]
  },
  {
   "cell_type": "code",
   "execution_count": 8,
   "id": "4c027e5d",
   "metadata": {},
   "outputs": [
    {
     "name": "stdout",
     "output_type": "stream",
     "text": [
      "Gurobi Optimizer version 12.0.1 build v12.0.1rc0 (linux64 - \"Arch Linux\")\n",
      "\n",
      "CPU model: Intel(R) Core(TM) Ultra 9 185H, instruction set [SSE2|AVX|AVX2]\n",
      "Thread count: 11 physical cores, 22 logical processors, using up to 22 threads\n",
      "\n",
      "Optimize a model with 5 rows, 2 columns and 7 nonzeros\n",
      "Coefficient statistics:\n",
      "  Matrix range     [1e+00, 4e+00]\n",
      "  Objective range  [5e+01, 7e+01]\n",
      "  Bounds range     [0e+00, 0e+00]\n",
      "  RHS range        [4e+01, 2e+02]\n",
      "LP warm-start: use basis\n",
      "\n",
      "Iteration    Objective       Primal Inf.    Dual Inf.      Time\n",
      "       0    4.1000000e+03   0.000000e+00   0.000000e+00      0s\n",
      "\n",
      "Solved in 0 iterations and 0.01 seconds (0.00 work units)\n",
      "Optimal objective  4.100000000e+03\n"
     ]
    }
   ],
   "source": [
    "# Add a new constraint\n",
    "model.addConstr(tables <= 35, \"MaxTables\")\n",
    "\n",
    "# Re-optimize\n",
    "model.optimize()"
   ]
  },
  {
   "cell_type": "markdown",
   "id": "3a376443",
   "metadata": {},
   "source": [
    "### Changing to Integer Programming\n",
    "\n",
    "If we need whole numbers of products:"
   ]
  },
  {
   "cell_type": "code",
   "execution_count": 9,
   "id": "70d14397",
   "metadata": {},
   "outputs": [],
   "source": [
    "# Integer variables\n",
    "tables = model.addVar(vtype=GRB.INTEGER, name=\"Tables\")\n",
    "chairs = model.addVar(vtype=GRB.INTEGER, name=\"Chairs\")"
   ]
  },
  {
   "cell_type": "markdown",
   "id": "975bc1af",
   "metadata": {},
   "source": [
    "### Working with Binary Variables\n",
    "\n",
    "For yes/no decisions:"
   ]
  },
  {
   "cell_type": "code",
   "execution_count": 10,
   "id": "e428509c",
   "metadata": {},
   "outputs": [],
   "source": [
    "produce_tables = model.addVar(vtype=GRB.BINARY, name=\"ProduceTables\")"
   ]
  },
  {
   "cell_type": "markdown",
   "id": "2bdf7cba",
   "metadata": {},
   "source": [
    "## Common Error Messages and Troubleshooting\n",
    "\n",
    "1. **Model Infeasible**: No solution satisfies all constraints\n",
    "   - Check for contradictory constraints\n",
    "   - Relax some constraints if possible\n",
    "\n",
    "2. **Model Unbounded**: The objective can be improved indefinitely\n",
    "   - Verify that all necessary constraints are included\n",
    "   - Check for incorrect signs in constraints\n",
    "\n",
    "3. **Numerical Issues**: Solver encounters numerical difficulties\n",
    "   - Rescale your variables and constraints\n",
    "   - Avoid very large or very small coefficients\n",
    "\n",
    "## Practice Exercises\n",
    "\n",
    "1. Modify the furniture example to include minimum production requirements.\n",
    "2. Add a constraint that requires at least twice as many chairs as tables.\n",
    "3. Change the model to use integer variables instead of continuous ones.\n",
    "4. Add a binary variable to decide whether to produce tables at all.\n",
    "\n",
    "## Conclusion\n",
    "\n",
    "Gurobipy provides a powerful and intuitive way to implement optimization models in Python. By following these steps, you can translate a mathematical formulation into working code that solves real-world optimization problems.\n",
    "\n",
    "The key advantages of using Gurobipy include:\n",
    "- Clean, intuitive syntax that closely matches mathematical notation\n",
    "- Access to a high-performance commercial solver\n",
    "- Extensive modeling capabilities for various problem types\n",
    "- Robust solution methods for LP, MIP, QP, and other optimization problems\n",
    "- Advanced features for sensitivity analysis and model debugging"
   ]
  }
 ],
 "metadata": {
  "kernelspec": {
   "display_name": ".venv",
   "language": "python",
   "name": "python3"
  },
  "language_info": {
   "codemirror_mode": {
    "name": "ipython",
    "version": 3
   },
   "file_extension": ".py",
   "mimetype": "text/x-python",
   "name": "python",
   "nbconvert_exporter": "python",
   "pygments_lexer": "ipython3",
   "version": "3.13.2"
  }
 },
 "nbformat": 4,
 "nbformat_minor": 5
}
