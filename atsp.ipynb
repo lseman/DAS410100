{
 "cells": [
  {
   "cell_type": "code",
   "execution_count": null,
   "metadata": {},
   "outputs": [],
   "source": [
    "import numpy as np\n",
    "\n",
    "class ATSPInstance:\n",
    "    def __init__(self, filename):\n",
    "        self.name = \"\"\n",
    "        self.dimension = 0\n",
    "        self.distance_matrix = None\n",
    "        self.parse_instance(filename)\n",
    "\n",
    "    def parse_instance(self, filename):\n",
    "        edge_weights = []\n",
    "        reading_edge_weights = False\n",
    "\n",
    "        with open(filename, 'r') as file:\n",
    "            for line in file:\n",
    "                line = line.strip()\n",
    "\n",
    "                if \"NAME:\" in line:\n",
    "                    self.name = line.split()[1]\n",
    "                elif \"DIMENSION:\" in line:\n",
    "                    self.dimension = int(line.split()[1])\n",
    "                elif line == \"EDGE_WEIGHT_SECTION\":\n",
    "                    reading_edge_weights = True\n",
    "                elif reading_edge_weights:\n",
    "                    if line == \"EOF\":\n",
    "                        break\n",
    "                    edge_weights.extend(map(int, line.split()))\n",
    "\n",
    "        self.distance_matrix = np.array(edge_weights).reshape((self.dimension, self.dimension))\n",
    "\n",
    "    def print_instance(self):\n",
    "        print(f\"ATSP Instance: {self.name}\")\n",
    "        print(f\"Dimension: {self.dimension}\")\n",
    "        print(\"Distance Matrix:\")\n",
    "        print(self.distance_matrix)\n",
    "\n"
   ]
  }
 ],
 "metadata": {
  "language_info": {
   "name": "python"
  }
 },
 "nbformat": 4,
 "nbformat_minor": 2
}
